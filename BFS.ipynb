{
  "cells": [
    {
      "cell_type": "markdown",
      "metadata": {
        "id": "4Nx9eg2APWT9"
      },
      "source": [
        "# **mulailah dengan mengimpor library yang diperlukan untuk memplot grafik**"
      ]
    },
    {
      "cell_type": "code",
      "execution_count": null,
      "metadata": {
        "id": "wrG8ZPVhNK2l"
      },
      "outputs": [],
      "source": [
        "import networkx as nx\n",
        "from matplotlib import pyplot as plt\n",
        "plt.rcParams[\"figure.figsize\"] = (10,10)"
      ]
    },
    {
      "cell_type": "markdown",
      "metadata": {
        "id": "fAY7oJ1BPevl"
      },
      "source": [
        "# **secara acak generate graph dengan 7 node di mana probabilitas dua node terhubung adalah 40%.**"
      ]
    },
    {
      "cell_type": "code",
      "execution_count": null,
      "metadata": {
        "id": "SBNQTzapNSwS"
      },
      "outputs": [],
      "source": [
        "G = nx.random_graphs.fast_gnp_random_graph(7, 0.4)"
      ]
    },
    {
      "cell_type": "markdown",
      "metadata": {
        "id": "AVYVcK6BP6jw"
      },
      "source": [
        "# **mendefinisikan dan memanggil fungsi yang memplot berbagai komponen grafik.**"
      ]
    },
    {
      "cell_type": "code",
      "execution_count": null,
      "metadata": {
        "colab": {
          "base_uri": "https://localhost:8080/",
          "height": 575
        },
        "id": "vjfHUEYnNaJ4",
        "outputId": "9cd934be-f443-47d5-b875-def58f0d6259"
      },
      "outputs": [
        {
          "data": {
            "image/png": "[encoded data removed]",
            "text/plain": [
              "<Figure size 720x720 with 1 Axes>"
            ]
          },
          "metadata": {},
          "output_type": "display_data"
        }
      ],
      "source": [
        "def draw_graph(G):\n",
        "    pos = nx.spring_layout(G)\n",
        "    nx.draw_networkx_nodes(G, pos, node_size=500, alpha=0.5)\n",
        "    nx.draw_networkx_labels(G, pos)\n",
        "    nx.draw_networkx_edges(G, pos, width=1.0, alpha=0.5)\n",
        "draw_graph(G)"
      ]
    },
    {
      "cell_type": "markdown",
      "metadata": {
        "id": "RGSS0tYFQJry"
      },
      "source": [
        "# **List graph dan node**"
      ]
    },
    {
      "cell_type": "code",
      "execution_count": null,
      "metadata": {
        "colab": {
          "base_uri": "https://localhost:8080/"
        },
        "id": "D_bdYn7rNcxw",
        "outputId": "0491c07a-cd07-4f25-cef9-08fcf989c7e0"
      },
      "outputs": [
        {
          "data": {
            "text/plain": [
              "NodeView((0, 1, 2, 3, 4, 5, 6))"
            ]
          },
          "execution_count": 13,
          "metadata": {},
          "output_type": "execute_result"
        }
      ],
      "source": [
        "G.nodes"
      ]
    },
    {
      "cell_type": "code",
      "execution_count": null,
      "metadata": {
        "colab": {
          "base_uri": "https://localhost:8080/"
        },
        "id": "4607MOTmNhBj",
        "outputId": "605152af-9c7e-40ed-b1a7-a73b5d36cb80"
      },
      "outputs": [
        {
          "data": {
            "text/plain": [
              "EdgeView([(0, 1), (0, 2), (1, 3), (1, 6), (2, 5), (2, 6), (4, 6)])"
            ]
          },
          "execution_count": 14,
          "metadata": {},
          "output_type": "execute_result"
        }
      ],
      "source": [
        "G.edges"
      ]
    },
    {
      "cell_type": "markdown",
      "metadata": {
        "id": "AZdR7GwpQg5i"
      },
      "source": [
        "# **mengimplementasikan algoritma Breadth First Search. Untuk menentukan node yang berdekatan dengan node saat ini, temukan semua tupel yang berisi node saat ini, dan tambahkan node lainnya.**"
      ]
    },
    {
      "cell_type": "code",
      "execution_count": null,
      "metadata": {
        "id": "-s8ggiHaNpSt"
      },
      "outputs": [],
      "source": [
        "def bfs(graph, starting_node):\n",
        "    visited = []\n",
        "    queue = [starting_node]\n",
        "    \n",
        "    while queue:\n",
        "        node = queue.pop(0)\n",
        "        if node not in visited:\n",
        "            visited.append(node)            \n",
        "            for edge in graph.edges:\n",
        "                if edge[0] == node:\n",
        "                    queue.append(edge[1])\n",
        "                elif edge[1] == node:\n",
        "                    queue.append(edge[0])\n",
        "    return visited"
      ]
    },
    {
      "cell_type": "markdown",
      "metadata": {
        "id": "HWIgEpJMQxXu"
      },
      "source": [
        "# **panggil fungsi menggunakan grafik yang baru saja dibuat dan sebagai contoh ditetapkan simpul 1 sebagai simpul awal.**"
      ]
    },
    {
      "cell_type": "code",
      "execution_count": null,
      "metadata": {
        "colab": {
          "base_uri": "https://localhost:8080/"
        },
        "id": "qVWntY3YNt56",
        "outputId": "4fdc4d13-cbee-4def-8da8-613b96f0c261"
      },
      "outputs": [
        {
          "data": {
            "text/plain": [
              "[1, 0, 3, 6, 2, 4, 5]"
            ]
          },
          "execution_count": 16,
          "metadata": {},
          "output_type": "execute_result"
        }
      ],
      "source": [
        "bfs(G, 1)"
      ]
    },
    {
      "cell_type": "markdown",
      "metadata": {
        "id": "upNOqQ4JRLAy"
      },
      "source": [
        "# **fungsi untuk menemukan jalur terpendek menggunakan BFS mirip dengan code yang sebelumnya, hanya saja ada penambahan argumen untuk simpul yang ingin ditemukan jalurnya. Jika salah satu node tetangga adalah tujuan, maka pencarian selesai dan mengembalikan jalur baru. Jika tidak, pencarian terus diulangi hingga semua jalur yang tersisa dalam antrian selesai dikunjungi.**"
      ]
    },
    {
      "cell_type": "code",
      "execution_count": null,
      "metadata": {
        "id": "XzeTCl1pNxE-"
      },
      "outputs": [],
      "source": [
        "def find_shortest_path(graph, starting_node, goal):\n",
        "    visited = []\n",
        "    queue = [[starting_node]]\n",
        "    \n",
        "    while queue:\n",
        "        path = queue.pop(0)\n",
        "        node = path[-1]\n",
        "        if node not in visited:\n",
        "            neighbours = []\n",
        "            for edge in graph.edges:\n",
        "                if edge[0] == node:\n",
        "                    neighbours.append(edge[1])\n",
        "                elif edge[1] == node:\n",
        "                    neighbours.append(edge[0])\n",
        "            for neighbour in neighbours:\n",
        "                new_path = list(path)\n",
        "                new_path.append(neighbour)\n",
        "                queue.append(new_path)\n",
        "                \n",
        "                if neighbour == goal:\n",
        "                    return new_path\n",
        "            \n",
        "            visited.append(node)\n",
        "            \n",
        "    return []"
      ]
    },
    {
      "cell_type": "code",
      "execution_count": null,
      "metadata": {
        "colab": {
          "base_uri": "https://localhost:8080/"
        },
        "id": "PwPDWceSOAy_",
        "outputId": "dc576b1a-c94a-4aba-f642-965c3d1e0bea"
      },
      "outputs": [
        {
          "data": {
            "text/plain": [
              "[1, 3]"
            ]
          },
          "execution_count": 18,
          "metadata": {},
          "output_type": "execute_result"
        }
      ],
      "source": [
        "find_shortest_path(G, 1, 3)"
      ]
    },
    {
      "cell_type": "markdown",
      "metadata": {
        "id": "Q3FOs9u_SCrg"
      },
      "source": [
        "# **INI ADALAH CODE LAIN DARI BFS DIMANA NODE NYA SUDAH DIDEFINISIKAN DI AWAL**"
      ]
    },
    {
      "cell_type": "code",
      "execution_count": 2,
      "metadata": {
        "colab": {
          "base_uri": "https://localhost:8080/"
        },
        "id": "rhhjjuShSMD8",
        "outputId": "96ae0a9a-a592-4ad7-8250-9688727b8c3e"
      },
      "outputs": [
        {
          "name": "stdout",
          "output_type": "stream",
          "text": [
            "Following is the Breadth-First Search\n",
            "5 3 7 2 4 8 "
          ]
        }
      ],
      "source": [
        "graph = {\n",
        "  '5' : ['3','7'],\n",
        "  '3' : ['2', '4'],\n",
        "  '7' : ['8'],\n",
        "  '2' : [],\n",
        "  '4' : ['8'],\n",
        "  '8' : []\n",
        "}\n",
        "\n",
        "visited = [] # List for visited nodes.\n",
        "queue = []     #Initialize a queue\n",
        "\n",
        "def bfs(visited, graph, node): #function for BFS\n",
        "  visited.append(node)\n",
        "  queue.append(node)\n",
        "\n",
        "  while queue:          # Creating loop to visit each node\n",
        "    m = queue.pop(0) \n",
        "    print (m, end = \" \") \n",
        "\n",
        "    for neighbour in graph[m]:\n",
        "      if neighbour not in visited:\n",
        "        visited.append(neighbour)\n",
        "        queue.append(neighbour)\n",
        "\n",
        "# Driver Code\n",
        "print(\"Following is the Breadth-First Search\")\n",
        "bfs(visited, graph, '5')    # function calling"
      ]
    }
  ],
  "metadata": {
    "colab": {
      "collapsed_sections": [],
      "name": "BFS.ipynb",
      "provenance": []
    },
    "interpreter": {
      "hash": "26759989246148726917b5b7346b1b76e2a2e91cc19470c5c0beb4e7d73d797e"
    },
    "kernelspec": {
      "display_name": "Python 3.9.0 64-bit",
      "name": "python3"
    },
    "language_info": {
      "codemirror_mode": {
        "name": "ipython",
        "version": 3
      },
      "file_extension": ".py",
      "mimetype": "text/x-python",
      "name": "python",
      "nbconvert_exporter": "python",
      "pygments_lexer": "ipython3",
      "version": "3.9.0"
    }
  },
  "nbformat": 4,
  "nbformat_minor": 0
}
